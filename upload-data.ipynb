import pandas as pd
     

df = pd.read_csv('yellow_tripdata_2021-01.csv',nrows=100)
     

df
