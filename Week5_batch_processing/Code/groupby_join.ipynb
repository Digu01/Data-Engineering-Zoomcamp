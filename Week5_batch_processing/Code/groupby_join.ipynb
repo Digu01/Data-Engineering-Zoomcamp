{
 "cells": [
  {
   "cell_type": "code",
   "execution_count": 1,
   "id": "8607578d-20b1-4aba-b2a0-686cc2af036c",
   "metadata": {},
   "outputs": [
    {
     "name": "stderr",
     "output_type": "stream",
     "text": [
      "Setting default log level to \"WARN\".\n",
      "To adjust logging level use sc.setLogLevel(newLevel). For SparkR, use setLogLevel(newLevel).\n",
      "24/02/25 13:30:54 WARN NativeCodeLoader: Unable to load native-hadoop library for your platform... using builtin-java classes where applicable\n"
     ]
    }
   ],
   "source": [
    "import pyspark\n",
    "from pyspark.sql import SparkSession\n",
    "\n",
    "spark = SparkSession.builder \\\n",
    "    .master(\"local[*]\") \\\n",
    "    .appName('test') \\\n",
    "    .getOrCreate()"
   ]
  },
  {
   "cell_type": "code",
   "execution_count": 2,
   "id": "e76ee650-528f-46c8-8c7b-65932ee455f0",
   "metadata": {},
   "outputs": [],
   "source": [
    "df_green = spark.read.parquet('data/pq/green/*/*')"
   ]
  },
  {
   "cell_type": "code",
   "execution_count": 3,
   "id": "adae63bd-b6a8-4e5a-83df-32204bdfe3f3",
   "metadata": {},
   "outputs": [],
   "source": [
    "df_green.createOrReplaceTempView('green')"
   ]
  },
  {
   "cell_type": "code",
   "execution_count": 4,
   "id": "ae07ef21-8b35-48de-a217-39b73f5fbd9b",
   "metadata": {},
   "outputs": [],
   "source": [
    "df_green_revenue = spark.sql(\"\"\"\n",
    "SELECT \n",
    "    date_trunc('hour', lpep_pickup_datetime) AS hour, \n",
    "    PULocationID AS zone,\n",
    "\n",
    "    SUM(total_amount) AS amount,\n",
    "    COUNT(1) AS number_records\n",
    "FROM\n",
    "    green\n",
    "WHERE\n",
    "    lpep_pickup_datetime >= '2020-01-01 00:00:00'\n",
    "GROUP BY\n",
    "    1, 2\n",
    "\"\"\")"
   ]
  },
  {
   "cell_type": "code",
   "execution_count": 6,
   "id": "cf5401a0-2e5b-4c91-8c85-b9c50c3fe15d",
   "metadata": {},
   "outputs": [
    {
     "name": "stderr",
     "output_type": "stream",
     "text": [
      "24/02/25 13:34:54 WARN MemoryManager: Total allocation exceeds 95.00% (1,020,054,720 bytes) of heap memory\n",
      "Scaling row group sizes to 95.00% for 8 writers\n",
      "24/02/25 13:34:54 WARN MemoryManager: Total allocation exceeds 95.00% (1,020,054,720 bytes) of heap memory\n",
      "Scaling row group sizes to 84.44% for 9 writers\n",
      "24/02/25 13:34:54 WARN MemoryManager: Total allocation exceeds 95.00% (1,020,054,720 bytes) of heap memory\n",
      "Scaling row group sizes to 76.00% for 10 writers\n",
      "24/02/25 13:34:54 WARN MemoryManager: Total allocation exceeds 95.00% (1,020,054,720 bytes) of heap memory\n",
      "Scaling row group sizes to 84.44% for 9 writers\n",
      "24/02/25 13:34:54 WARN MemoryManager: Total allocation exceeds 95.00% (1,020,054,720 bytes) of heap memory\n",
      "Scaling row group sizes to 95.00% for 8 writers\n",
      "                                                                                \r"
     ]
    }
   ],
   "source": [
    "df_green_revenue.repartition(15).write.parquet('data/report/revenue/green', mode='overwrite')"
   ]
  },
  {
   "cell_type": "code",
   "execution_count": 8,
   "id": "72c6dbee-8ee4-4321-bb69-5490b470b022",
   "metadata": {},
   "outputs": [],
   "source": [
    "df_yellow = spark.read.parquet('data/pq/yellow/*/*')\n",
    "df_yellow.createOrReplaceTempView('yellow')"
   ]
  },
  {
   "cell_type": "code",
   "execution_count": 9,
   "id": "8622ae80-c64d-457c-9649-672827860f0f",
   "metadata": {},
   "outputs": [],
   "source": [
    "df_yellow_revenue = spark.sql(\"\"\"\n",
    "SELECT \n",
    "    date_trunc('hour', tpep_pickup_datetime) AS hour, \n",
    "    PULocationID AS zone,\n",
    "\n",
    "    SUM(total_amount) AS amount,\n",
    "    COUNT(1) AS number_records\n",
    "FROM\n",
    "    yellow\n",
    "WHERE\n",
    "    tpep_pickup_datetime >= '2020-01-01 00:00:00'\n",
    "GROUP BY\n",
    "    1, 2\n",
    "\"\"\")"
   ]
  },
  {
   "cell_type": "code",
   "execution_count": 10,
   "id": "8ec6f022-51fb-415c-a065-7e01c9b293ff",
   "metadata": {},
   "outputs": [
    {
     "name": "stderr",
     "output_type": "stream",
     "text": [
      "24/02/25 13:36:40 WARN MemoryManager: Total allocation exceeds 95.00% (1,020,054,720 bytes) of heap memory\n",
      "Scaling row group sizes to 95.00% for 8 writers\n",
      "24/02/25 13:36:40 WARN MemoryManager: Total allocation exceeds 95.00% (1,020,054,720 bytes) of heap memory\n",
      "Scaling row group sizes to 84.44% for 9 writers\n",
      "24/02/25 13:36:40 WARN MemoryManager: Total allocation exceeds 95.00% (1,020,054,720 bytes) of heap memory\n",
      "Scaling row group sizes to 76.00% for 10 writers\n",
      "24/02/25 13:36:40 WARN MemoryManager: Total allocation exceeds 95.00% (1,020,054,720 bytes) of heap memory\n",
      "Scaling row group sizes to 84.44% for 9 writers\n",
      "24/02/25 13:36:40 WARN MemoryManager: Total allocation exceeds 95.00% (1,020,054,720 bytes) of heap memory\n",
      "Scaling row group sizes to 95.00% for 8 writers\n",
      "                                                                                \r"
     ]
    }
   ],
   "source": [
    "df_yellow_revenue.repartition(15).write.parquet('data/report/revenue/yellow', mode='overwrite')"
   ]
  },
  {
   "cell_type": "code",
   "execution_count": 12,
   "id": "86d49b50-9eef-45dc-becf-6c316c302a76",
   "metadata": {},
   "outputs": [],
   "source": [
    "df_green_revenue = spark.read.parquet('data/report/revenue/green')\n",
    "df_yellow_revenue = spark.read.parquet('data/report/revenue/yellow')"
   ]
  },
  {
   "cell_type": "code",
   "execution_count": 13,
   "id": "5e64c068-31c0-4173-90e0-e46ece504171",
   "metadata": {},
   "outputs": [],
   "source": [
    "df_green_revenue_tmp = df_green_revenue \\\n",
    "    .withColumnRenamed('amount', 'green_amount') \\\n",
    "    .withColumnRenamed('number_records', 'green_number_records')\n",
    "\n",
    "df_yellow_revenue_tmp = df_yellow_revenue \\\n",
    "    .withColumnRenamed('amount', 'yellow_amount') \\\n",
    "    .withColumnRenamed('number_records', 'yellow_number_records')"
   ]
  },
  {
   "cell_type": "code",
   "execution_count": 14,
   "id": "f32bc04b-bbc9-4c32-b0bc-7715318e66b8",
   "metadata": {},
   "outputs": [],
   "source": [
    "df_join = df_green_revenue_tmp.join(df_yellow_revenue_tmp, on=['hour', 'zone'], how='outer')"
   ]
  },
  {
   "cell_type": "code",
   "execution_count": 15,
   "id": "5172df67-5b06-48f6-9980-47f7263430d5",
   "metadata": {},
   "outputs": [
    {
     "name": "stderr",
     "output_type": "stream",
     "text": [
      "24/02/25 13:42:55 WARN MemoryManager: Total allocation exceeds 95.00% (1,020,054,720 bytes) of heap memory\n",
      "Scaling row group sizes to 95.00% for 8 writers\n",
      "24/02/25 13:42:55 WARN MemoryManager: Total allocation exceeds 95.00% (1,020,054,720 bytes) of heap memory\n",
      "Scaling row group sizes to 84.44% for 9 writers\n",
      "24/02/25 13:42:55 WARN MemoryManager: Total allocation exceeds 95.00% (1,020,054,720 bytes) of heap memory\n",
      "Scaling row group sizes to 76.00% for 10 writers\n",
      "24/02/25 13:42:55 WARN MemoryManager: Total allocation exceeds 95.00% (1,020,054,720 bytes) of heap memory\n",
      "Scaling row group sizes to 84.44% for 9 writers\n",
      "24/02/25 13:42:55 WARN MemoryManager: Total allocation exceeds 95.00% (1,020,054,720 bytes) of heap memory\n",
      "Scaling row group sizes to 95.00% for 8 writers\n",
      "                                                                                \r"
     ]
    }
   ],
   "source": [
    "df_join.write.parquet('data/report/revenue/total', mode='overwrite')"
   ]
  },
  {
   "cell_type": "code",
   "execution_count": 16,
   "id": "31adb386-5241-4318-8b2d-7c2a3c6f3e77",
   "metadata": {},
   "outputs": [],
   "source": [
    "df_join = spark.read.parquet('data/report/revenue/total')"
   ]
  },
  {
   "cell_type": "code",
   "execution_count": 17,
   "id": "12c6d76c-e791-4f18-b836-13e1ebc8b097",
   "metadata": {},
   "outputs": [
    {
     "name": "stdout",
     "output_type": "stream",
     "text": [
      "+-------------------+----+------------------+--------------------+------------------+---------------------+\n",
      "|               hour|zone|      green_amount|green_number_records|     yellow_amount|yellow_number_records|\n",
      "+-------------------+----+------------------+--------------------+------------------+---------------------+\n",
      "|2020-01-01 00:00:00|  22|              15.8|                   1|              NULL|                 NULL|\n",
      "|2020-01-01 00:00:00|  35|            129.96|                   5|              NULL|                 NULL|\n",
      "|2020-01-01 00:00:00|  40|168.97999999999996|                   8|             89.97|                    5|\n",
      "|2020-01-01 00:00:00|  55|129.29000000000002|                   4|              NULL|                 NULL|\n",
      "|2020-01-01 00:00:00|  65|            199.49|                  10| 409.3500000000001|                   19|\n",
      "|2020-01-01 00:00:00|  72|             67.53|                   2|              NULL|                 NULL|\n",
      "|2020-01-01 00:00:00|  95|202.20000000000005|                  15|               6.3|                    1|\n",
      "|2020-01-01 00:00:00| 127|              NULL|                NULL|43.900000000000006|                    3|\n",
      "|2020-01-01 00:00:00| 129| 273.2100000000001|                  19|            211.62|                   13|\n",
      "|2020-01-01 00:00:00| 137|              NULL|                NULL| 2791.429999999998|                  172|\n",
      "|2020-01-01 00:00:00| 167|             88.89|                   5|               9.8|                    1|\n",
      "|2020-01-01 00:00:00| 192|              12.3|                   1|              NULL|                 NULL|\n",
      "|2020-01-01 00:00:00| 213|             46.12|                   1|              71.3|                    2|\n",
      "|2020-01-01 00:00:00| 222|              NULL|                NULL|             26.36|                    1|\n",
      "|2020-01-01 00:00:00| 230|              NULL|                NULL|              24.8|                    1|\n",
      "|2020-01-01 00:00:00| 234|              NULL|                NULL|  8815.86000000002|                  480|\n",
      "|2020-01-01 00:00:00| 255| 666.3399999999999|                  28| 537.6600000000001|                   27|\n",
      "|2020-01-01 00:00:00| 262|              NULL|                NULL|2239.5199999999986|                  149|\n",
      "|2020-01-01 01:00:00|  20|             86.43|                   3|              78.6|                    2|\n",
      "|2020-01-01 01:00:00|  45|              NULL|                NULL|            898.44|                   49|\n",
      "+-------------------+----+------------------+--------------------+------------------+---------------------+\n",
      "only showing top 20 rows\n",
      "\n"
     ]
    }
   ],
   "source": [
    "df_join.show()"
   ]
  },
  {
   "cell_type": "code",
   "execution_count": 19,
   "id": "37c1456e-5a01-4ffc-9105-b7832486acc1",
   "metadata": {},
   "outputs": [],
   "source": [
    "df_zones = spark.read.parquet('zones/')"
   ]
  },
  {
   "cell_type": "code",
   "execution_count": 22,
   "id": "77ed474f-fdaa-4906-8701-cb47a112d70e",
   "metadata": {},
   "outputs": [],
   "source": [
    "df_result = df_join.join(df_zones, df_join.zone == df_zones.LocationID)"
   ]
  },
  {
   "cell_type": "code",
   "execution_count": 23,
   "id": "b070789f-1434-420c-9b7c-fa322ade8fa6",
   "metadata": {},
   "outputs": [
    {
     "name": "stderr",
     "output_type": "stream",
     "text": [
      "24/02/25 13:46:08 WARN MemoryManager: Total allocation exceeds 95.00% (1,020,054,720 bytes) of heap memory\n",
      "Scaling row group sizes to 95.00% for 8 writers\n",
      "24/02/25 13:46:08 WARN MemoryManager: Total allocation exceeds 95.00% (1,020,054,720 bytes) of heap memory\n",
      "Scaling row group sizes to 84.44% for 9 writers\n",
      "24/02/25 13:46:08 WARN MemoryManager: Total allocation exceeds 95.00% (1,020,054,720 bytes) of heap memory\n",
      "Scaling row group sizes to 76.00% for 10 writers\n",
      "24/02/25 13:46:09 WARN MemoryManager: Total allocation exceeds 95.00% (1,020,054,720 bytes) of heap memory\n",
      "Scaling row group sizes to 84.44% for 9 writers\n",
      "24/02/25 13:46:09 WARN MemoryManager: Total allocation exceeds 95.00% (1,020,054,720 bytes) of heap memory\n",
      "Scaling row group sizes to 95.00% for 8 writers\n",
      "                                                                                \r"
     ]
    }
   ],
   "source": [
    "df_result.drop('LocationID', 'zone').write.parquet('tmp/revenue-zones')"
   ]
  },
  {
   "cell_type": "code",
   "execution_count": 24,
   "id": "af45cf57-6ede-4071-990b-23fea6040422",
   "metadata": {},
   "outputs": [
    {
     "name": "stdout",
     "output_type": "stream",
     "text": [
      "+-------------------+----+------------------+--------------------+------------------+---------------------+----------+---------+--------------------+------------+\n",
      "|               hour|zone|      green_amount|green_number_records|     yellow_amount|yellow_number_records|LocationID|  Borough|                Zone|service_zone|\n",
      "+-------------------+----+------------------+--------------------+------------------+---------------------+----------+---------+--------------------+------------+\n",
      "|2020-01-01 00:00:00|  22|              15.8|                   1|              NULL|                 NULL|        22| Brooklyn|    Bensonhurst West|   Boro Zone|\n",
      "|2020-01-01 00:00:00|  35|            129.96|                   5|              NULL|                 NULL|        35| Brooklyn|         Brownsville|   Boro Zone|\n",
      "|2020-01-01 00:00:00|  40|168.97999999999996|                   8|             89.97|                    5|        40| Brooklyn|     Carroll Gardens|   Boro Zone|\n",
      "|2020-01-01 00:00:00|  55|129.29000000000002|                   4|              NULL|                 NULL|        55| Brooklyn|        Coney Island|   Boro Zone|\n",
      "|2020-01-01 00:00:00|  65|            199.49|                  10| 409.3500000000001|                   19|        65| Brooklyn|Downtown Brooklyn...|   Boro Zone|\n",
      "|2020-01-01 00:00:00|  72|             67.53|                   2|              NULL|                 NULL|        72| Brooklyn|East Flatbush/Rem...|   Boro Zone|\n",
      "|2020-01-01 00:00:00|  95|202.20000000000005|                  15|               6.3|                    1|        95|   Queens|        Forest Hills|   Boro Zone|\n",
      "|2020-01-01 00:00:00| 127|              NULL|                NULL|43.900000000000006|                    3|       127|Manhattan|              Inwood|   Boro Zone|\n",
      "|2020-01-01 00:00:00| 129| 273.2100000000001|                  19|            211.62|                   13|       129|   Queens|     Jackson Heights|   Boro Zone|\n",
      "|2020-01-01 00:00:00| 137|              NULL|                NULL| 2791.429999999998|                  172|       137|Manhattan|            Kips Bay| Yellow Zone|\n",
      "|2020-01-01 00:00:00| 167|             88.89|                   5|               9.8|                    1|       167|    Bronx|  Morrisania/Melrose|   Boro Zone|\n",
      "|2020-01-01 00:00:00| 192|              12.3|                   1|              NULL|                 NULL|       192|   Queens|     Queensboro Hill|   Boro Zone|\n",
      "|2020-01-01 00:00:00| 213|             46.12|                   1|              71.3|                    2|       213|    Bronx|Soundview/Castle ...|   Boro Zone|\n",
      "|2020-01-01 00:00:00| 222|              NULL|                NULL|             26.36|                    1|       222| Brooklyn|       Starrett City|   Boro Zone|\n",
      "|2020-01-01 00:00:00| 230|              NULL|                NULL|              24.8|                    1|       230|Manhattan|Times Sq/Theatre ...| Yellow Zone|\n",
      "|2020-01-01 00:00:00| 234|              NULL|                NULL|  8815.86000000002|                  480|       234|Manhattan|            Union Sq| Yellow Zone|\n",
      "|2020-01-01 00:00:00| 255| 666.3399999999999|                  28| 537.6600000000001|                   27|       255| Brooklyn|Williamsburg (Nor...|   Boro Zone|\n",
      "|2020-01-01 00:00:00| 262|              NULL|                NULL|2239.5199999999986|                  149|       262|Manhattan|      Yorkville East| Yellow Zone|\n",
      "|2020-01-01 01:00:00|  20|             86.43|                   3|              78.6|                    2|        20|    Bronx|             Belmont|   Boro Zone|\n",
      "|2020-01-01 01:00:00|  45|              NULL|                NULL|            898.44|                   49|        45|Manhattan|           Chinatown| Yellow Zone|\n",
      "+-------------------+----+------------------+--------------------+------------------+---------------------+----------+---------+--------------------+------------+\n",
      "only showing top 20 rows\n",
      "\n"
     ]
    }
   ],
   "source": [
    "df_result.show()"
   ]
  },
  {
   "cell_type": "code",
   "execution_count": 20,
   "id": "42189899-0598-4472-9efc-9842a49c9d6b",
   "metadata": {},
   "outputs": [],
   "source": [
    "spark.stop()"
   ]
  },
  {
   "cell_type": "code",
   "execution_count": null,
   "id": "cce17f3d-0cf6-4c7c-acbd-c2182e5a6ad7",
   "metadata": {},
   "outputs": [],
   "source": []
  }
 ],
 "metadata": {
  "kernelspec": {
   "display_name": "Python 3 (ipykernel)",
   "language": "python",
   "name": "python3"
  },
  "language_info": {
   "codemirror_mode": {
    "name": "ipython",
    "version": 3
   },
   "file_extension": ".py",
   "mimetype": "text/x-python",
   "name": "python",
   "nbconvert_exporter": "python",
   "pygments_lexer": "ipython3",
   "version": "3.11.1"
  }
 },
 "nbformat": 4,
 "nbformat_minor": 5
}
