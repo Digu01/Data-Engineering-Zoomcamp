{
 "cells": [
  {
   "cell_type": "code",
   "execution_count": 1,
   "id": "74a8f6c4-8654-4fe3-bcfc-0261b28c95d1",
   "metadata": {},
   "outputs": [],
   "source": [
    "import pyspark\n",
    "from pyspark.sql import SparkSession\n",
    "from pyspark.conf import SparkConf\n",
    "from pyspark.context import SparkContext"
   ]
  },
  {
   "cell_type": "code",
   "execution_count": 2,
   "id": "71844f96-e775-4fad-9922-8d36aca30994",
   "metadata": {},
   "outputs": [],
   "source": [
    "credentials_location = '/Users/iamraphson/.google/credentials/dezoomcamp-2024.json'\n",
    "\n",
    "conf = SparkConf() \\\n",
    "    .setMaster('local[*]') \\\n",
    "    .setAppName('test') \\\n",
    "    .set('spark.jars', 'https://storage.googleapis.com/hadoop-lib/gcs/gcs-connector-hadoop3-latest.jar') \\\n",
    "    .set('spark.hadoop.google.cloud.auth.service.account.enable', 'true') \\\n",
    "    .set('spark.hadoop.google.cloud.auth.service.account.json.keyfile', credentials_location)"
   ]
  },
  {
   "cell_type": "code",
   "execution_count": 3,
   "id": "6a8b44e0-421b-4a53-9bfe-7891189cf8e6",
   "metadata": {},
   "outputs": [
    {
     "name": "stderr",
     "output_type": "stream",
     "text": [
      "Setting default log level to \"WARN\".\n",
      "To adjust logging level use sc.setLogLevel(newLevel). For SparkR, use setLogLevel(newLevel).\n",
      "24/02/25 20:15:35 WARN NativeCodeLoader: Unable to load native-hadoop library for your platform... using builtin-java classes where applicable\n"
     ]
    }
   ],
   "source": [
    "sc = SparkContext(conf=conf)\n",
    "\n",
    "hadoop_conf = sc._jsc.hadoopConfiguration()\n",
    "\n",
    "hadoop_conf.set(\"fs.AbstractFileSystem.gs.impl\",  \"com.google.cloud.hadoop.fs.gcs.GoogleHadoopFS\")\n",
    "hadoop_conf.set(\"fs.gs.impl\", \"com.google.cloud.hadoop.fs.gcs.GoogleHadoopFileSystem\")\n",
    "hadoop_conf.set(\"fs.gs.auth.service.account.json.keyfile\", credentials_location)\n",
    "hadoop_conf.set(\"fs.gs.auth.service.account.enable\", \"true\")"
   ]
  },
  {
   "cell_type": "code",
   "execution_count": 4,
   "id": "5ecc8467-269f-46c0-bafd-d53fdf59b719",
   "metadata": {},
   "outputs": [],
   "source": [
    "spark = SparkSession.builder \\\n",
    "    .config(conf=sc.getConf()) \\\n",
    "    .getOrCreate()"
   ]
  },
  {
   "cell_type": "code",
   "execution_count": 5,
   "id": "5145e70d-24dc-4406-bccf-ae86c2d1fb22",
   "metadata": {},
   "outputs": [
    {
     "name": "stderr",
     "output_type": "stream",
     "text": [
      "                                                                                \r"
     ]
    }
   ],
   "source": [
    "df_green = spark.read.parquet('gs://dezoomcamp_2024_storage_bucket_radiant-gateway-412001/week5/pq/green/*/*')"
   ]
  },
  {
   "cell_type": "code",
   "execution_count": 6,
   "id": "8ba62dde-32b3-453d-b957-7810b096b5ec",
   "metadata": {},
   "outputs": [
    {
     "name": "stderr",
     "output_type": "stream",
     "text": [
      "                                                                                \r"
     ]
    },
    {
     "data": {
      "text/plain": [
       "2304517"
      ]
     },
     "execution_count": 6,
     "metadata": {},
     "output_type": "execute_result"
    }
   ],
   "source": [
    "df_green.count()"
   ]
  },
  {
   "cell_type": "code",
   "execution_count": 7,
   "id": "84edf224-e914-4aa0-a411-ef51423645ae",
   "metadata": {},
   "outputs": [],
   "source": [
    "sc.stop()"
   ]
  },
  {
   "cell_type": "code",
   "execution_count": 9,
   "id": "398d652b-93e9-4787-9ce3-fa02775ce732",
   "metadata": {},
   "outputs": [
    {
     "name": "stdout",
     "output_type": "stream",
     "text": [
      "{5: 1, 1: 1, 8: 1, 3: 1} <enumerate object at 0x10c4ed6c0>\n",
      "[2, 2, 4, 3]\n"
     ]
    }
   ],
   "source": [
    "def count_elements(arr1, arr2):\n",
    "    # Create a dictionary to store the frequency of elements in arr2\n",
    "    freq_map = {}\n",
    "    for num in arr2:\n",
    "        freq_map[num] = freq_map.get(num, 0) + 1\n",
    "\n",
    "    print(freq_map, enumerate(arr1))\n",
    "    # Initialize a result list with zeros\n",
    "    result = [0] * len(arr1)\n",
    "\n",
    "    # Count the number of elements in arr2 less than or equal to elements in arr1\n",
    "    count = 0\n",
    "    for i, num in enumerate(arr1):\n",
    "        for key in freq_map:\n",
    "            if key <= num:\n",
    "                count += freq_map[key]\n",
    "        result[i] = count\n",
    "        count = 0\n",
    "\n",
    "    return result\n",
    "\n",
    "# Example usage:\n",
    "arr1 = [4, 3, 9, 7]\n",
    "arr2 = [5, 1, 8, 3]\n",
    "print(count_elements(arr1, arr2))  # Output: [2, 0, 3, 1]"
   ]
  },
  {
   "cell_type": "code",
   "execution_count": null,
   "id": "653d79f8-df93-4f57-b15d-89593f7cb2d7",
   "metadata": {},
   "outputs": [],
   "source": []
  }
 ],
 "metadata": {
  "kernelspec": {
   "display_name": "Python 3 (ipykernel)",
   "language": "python",
   "name": "python3"
  },
  "language_info": {
   "codemirror_mode": {
    "name": "ipython",
    "version": 3
   },
   "file_extension": ".py",
   "mimetype": "text/x-python",
   "name": "python",
   "nbconvert_exporter": "python",
   "pygments_lexer": "ipython3",
   "version": "3.11.1"
  }
 },
 "nbformat": 4,
 "nbformat_minor": 5
}
